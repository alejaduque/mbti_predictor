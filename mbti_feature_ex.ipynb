{
 "cells": [
  {
   "cell_type": "code",
   "execution_count": 95,
   "metadata": {},
   "outputs": [
    {
     "name": "stderr",
     "output_type": "stream",
     "text": [
      "c:\\Users\\aleja\\anaconda3\\Lib\\site-packages\\sklearn\\base.py:347: InconsistentVersionWarning: Trying to unpickle estimator CountVectorizer from version 0.23.2 when using version 1.3.0. This might lead to breaking code or invalid results. Use at your own risk. For more info please refer to:\n",
      "https://scikit-learn.org/stable/model_persistence.html#security-maintainability-limitations\n",
      "  warnings.warn(\n",
      "c:\\Users\\aleja\\anaconda3\\Lib\\site-packages\\sklearn\\base.py:347: InconsistentVersionWarning: Trying to unpickle estimator MultinomialNB from version 0.23.2 when using version 1.3.0. This might lead to breaking code or invalid results. Use at your own risk. For more info please refer to:\n",
      "https://scikit-learn.org/stable/model_persistence.html#security-maintainability-limitations\n",
      "  warnings.warn(\n"
     ]
    }
   ],
   "source": [
    "import pandas as pd\n",
    "import glob \n",
    "import sentiment_analysis_spanish\n",
    "from sentiment_analysis_spanish import sentiment_analysis\n",
    "sentiment= sentiment_analysis.SentimentAnalysisSpanish()\n"
   ]
  },
  {
   "cell_type": "code",
   "execution_count": 110,
   "metadata": {},
   "outputs": [
    {
     "data": {
      "text/html": [
       "<div>\n",
       "<style scoped>\n",
       "    .dataframe tbody tr th:only-of-type {\n",
       "        vertical-align: middle;\n",
       "    }\n",
       "\n",
       "    .dataframe tbody tr th {\n",
       "        vertical-align: top;\n",
       "    }\n",
       "\n",
       "    .dataframe thead th {\n",
       "        text-align: right;\n",
       "    }\n",
       "</style>\n",
       "<table border=\"1\" class=\"dataframe\">\n",
       "  <thead>\n",
       "    <tr style=\"text-align: right;\">\n",
       "      <th></th>\n",
       "      <th>Unnamed: 0.2</th>\n",
       "      <th>Unnamed: 0.1</th>\n",
       "      <th>Unnamed: 0</th>\n",
       "      <th>0</th>\n",
       "      <th>labels</th>\n",
       "    </tr>\n",
       "  </thead>\n",
       "  <tbody>\n",
       "    <tr>\n",
       "      <th>0</th>\n",
       "      <td>0</td>\n",
       "      <td>0</td>\n",
       "      <td>0</td>\n",
       "      <td>@Pericles216 @HierBeforeTheAC @Sachinettiyil E...</td>\n",
       "      <td>intj</td>\n",
       "    </tr>\n",
       "    <tr>\n",
       "      <th>1</th>\n",
       "      <td>1</td>\n",
       "      <td>1</td>\n",
       "      <td>1</td>\n",
       "      <td>@HierBeforeTheAC @Pericles216 @Sachinettiyil Y...</td>\n",
       "      <td>intj</td>\n",
       "    </tr>\n",
       "    <tr>\n",
       "      <th>2</th>\n",
       "      <td>2</td>\n",
       "      <td>2</td>\n",
       "      <td>2</td>\n",
       "      <td>@HierBeforeTheAC @Pericles216 @Sachinettiyil A...</td>\n",
       "      <td>intj</td>\n",
       "    </tr>\n",
       "    <tr>\n",
       "      <th>3</th>\n",
       "      <td>3</td>\n",
       "      <td>3</td>\n",
       "      <td>3</td>\n",
       "      <td>@HierBeforeTheAC @Pericles216 @Sachinettiyil N...</td>\n",
       "      <td>intj</td>\n",
       "    </tr>\n",
       "    <tr>\n",
       "      <th>4</th>\n",
       "      <td>4</td>\n",
       "      <td>4</td>\n",
       "      <td>4</td>\n",
       "      <td>@HierBeforeTheAC @Pericles216 @Sachinettiyil E...</td>\n",
       "      <td>intj</td>\n",
       "    </tr>\n",
       "    <tr>\n",
       "      <th>...</th>\n",
       "      <td>...</td>\n",
       "      <td>...</td>\n",
       "      <td>...</td>\n",
       "      <td>...</td>\n",
       "      <td>...</td>\n",
       "    </tr>\n",
       "    <tr>\n",
       "      <th>4960</th>\n",
       "      <td>4960</td>\n",
       "      <td>4960</td>\n",
       "      <td>3485</td>\n",
       "      <td>el concepto classy chic royal expensive exquis...</td>\n",
       "      <td>intj</td>\n",
       "    </tr>\n",
       "    <tr>\n",
       "      <th>4961</th>\n",
       "      <td>4961</td>\n",
       "      <td>4961</td>\n",
       "      <td>3486</td>\n",
       "      <td>@stay_ami_moa es que algo como la hierba ¿cómo...</td>\n",
       "      <td>intj</td>\n",
       "    </tr>\n",
       "    <tr>\n",
       "      <th>4962</th>\n",
       "      <td>4962</td>\n",
       "      <td>4962</td>\n",
       "      <td>3487</td>\n",
       "      <td>@stay_ami_moa nunca he oído hablar de eso</td>\n",
       "      <td>intj</td>\n",
       "    </tr>\n",
       "    <tr>\n",
       "      <th>4963</th>\n",
       "      <td>4963</td>\n",
       "      <td>4963</td>\n",
       "      <td>3488</td>\n",
       "      <td>@mokshwang solo firma que chan deberia escucha...</td>\n",
       "      <td>intj</td>\n",
       "    </tr>\n",
       "    <tr>\n",
       "      <th>4964</th>\n",
       "      <td>4964</td>\n",
       "      <td>4964</td>\n",
       "      <td>3489</td>\n",
       "      <td>@mokshwang DEFINITIVAMENTE ES UN PADRE DE 7 HI...</td>\n",
       "      <td>intj</td>\n",
       "    </tr>\n",
       "  </tbody>\n",
       "</table>\n",
       "<p>4965 rows × 5 columns</p>\n",
       "</div>"
      ],
      "text/plain": [
       "      Unnamed: 0.2  Unnamed: 0.1  Unnamed: 0  \\\n",
       "0                0             0           0   \n",
       "1                1             1           1   \n",
       "2                2             2           2   \n",
       "3                3             3           3   \n",
       "4                4             4           4   \n",
       "...            ...           ...         ...   \n",
       "4960          4960          4960        3485   \n",
       "4961          4961          4961        3486   \n",
       "4962          4962          4962        3487   \n",
       "4963          4963          4963        3488   \n",
       "4964          4964          4964        3489   \n",
       "\n",
       "                                                      0 labels  \n",
       "0     @Pericles216 @HierBeforeTheAC @Sachinettiyil E...   intj  \n",
       "1     @HierBeforeTheAC @Pericles216 @Sachinettiyil Y...   intj  \n",
       "2     @HierBeforeTheAC @Pericles216 @Sachinettiyil A...   intj  \n",
       "3     @HierBeforeTheAC @Pericles216 @Sachinettiyil N...   intj  \n",
       "4     @HierBeforeTheAC @Pericles216 @Sachinettiyil E...   intj  \n",
       "...                                                 ...    ...  \n",
       "4960  el concepto classy chic royal expensive exquis...   intj  \n",
       "4961  @stay_ami_moa es que algo como la hierba ¿cómo...   intj  \n",
       "4962          @stay_ami_moa nunca he oído hablar de eso   intj  \n",
       "4963  @mokshwang solo firma que chan deberia escucha...   intj  \n",
       "4964  @mokshwang DEFINITIVAMENTE ES UN PADRE DE 7 HI...   intj  \n",
       "\n",
       "[4965 rows x 5 columns]"
      ]
     },
     "execution_count": 110,
     "metadata": {},
     "output_type": "execute_result"
    }
   ],
   "source": [
    "path= \"C:/GANDOLAPP/labelled_5000_translation.csv\" \n",
    "df= pd.read_csv(path)"
   ]
  },
  {
   "cell_type": "code",
   "execution_count": 111,
   "metadata": {},
   "outputs": [],
   "source": [
    "def sentiment_analysis(df_v):\n",
    "  output=[]\n",
    "  for i in df_v:\n",
    "    frase= str(i)\n",
    "    x= sentiment.sentiment(frase)\n",
    "    output.append(x)\n",
    "  return output\n"
   ]
  },
  {
   "cell_type": "code",
   "execution_count": 115,
   "metadata": {},
   "outputs": [],
   "source": [
    "sentimientos= sentiment_analysis(df.values)"
   ]
  },
  {
   "cell_type": "code",
   "execution_count": 116,
   "metadata": {},
   "outputs": [],
   "source": [
    "df['sentiment']=sentimientos"
   ]
  },
  {
   "cell_type": "code",
   "execution_count": 118,
   "metadata": {},
   "outputs": [],
   "source": [
    "df.to_csv('first_5000_sentiment.csv')"
   ]
  }
 ],
 "metadata": {
  "kernelspec": {
   "display_name": "base",
   "language": "python",
   "name": "python3"
  },
  "language_info": {
   "codemirror_mode": {
    "name": "ipython",
    "version": 3
   },
   "file_extension": ".py",
   "mimetype": "text/x-python",
   "name": "python",
   "nbconvert_exporter": "python",
   "pygments_lexer": "ipython3",
   "version": "3.11.5"
  }
 },
 "nbformat": 4,
 "nbformat_minor": 2
}
